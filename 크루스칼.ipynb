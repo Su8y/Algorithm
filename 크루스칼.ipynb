{
 "cells": [
  {
   "cell_type": "code",
   "execution_count": 36,
   "metadata": {},
   "outputs": [
    {
     "ename": "ValueError",
     "evalue": "invalid literal for int() with base 10: '9\\\\n1'",
     "output_type": "error",
     "traceback": [
      "\u001b[1;31m---------------------------------------------------------------------------\u001b[0m",
      "\u001b[1;31mValueError\u001b[0m                                Traceback (most recent call last)",
      "Cell \u001b[1;32mIn [36], line 19\u001b[0m\n\u001b[0;32m     15\u001b[0m     \u001b[38;5;28;01melse\u001b[39;00m:\n\u001b[0;32m     16\u001b[0m         parent[a] \u001b[38;5;241m=\u001b[39m b\n\u001b[1;32m---> 19\u001b[0m v, e \u001b[38;5;241m=\u001b[39m \u001b[38;5;28mmap\u001b[39m(\u001b[38;5;28mint\u001b[39m, \u001b[38;5;28minput\u001b[39m()\u001b[38;5;241m.\u001b[39msplit())  \u001b[38;5;66;03m# vertax edges\u001b[39;00m\n\u001b[0;32m     20\u001b[0m \u001b[38;5;28mprint\u001b[39m(v, e)\n\u001b[0;32m     21\u001b[0m parent \u001b[38;5;241m=\u001b[39m [\u001b[38;5;241m0\u001b[39m] \u001b[38;5;241m*\u001b[39m (v \u001b[38;5;241m+\u001b[39m \u001b[38;5;241m1\u001b[39m)\n",
      "\u001b[1;31mValueError\u001b[0m: invalid literal for int() with base 10: '9\\\\n1'"
     ]
    }
   ],
   "source": [
    "## 크루스칼 알고리즘 \n",
    "## \n",
    "\n",
    "def find_parent(parent, x):\n",
    "    if parent[x] != x:\n",
    "        parent[x] = find_parent(parent, parent[x])\n",
    "    return parent[x]\n",
    "\n",
    "\n",
    "def union_parent(parent, a, b):\n",
    "    a = find_parent(parent, a)\n",
    "    b = find_parent(parent, b)\n",
    "    if a < b:\n",
    "        parent[b] = a\n",
    "    else:\n",
    "        parent[a] = b\n",
    "\n",
    "\n",
    "v, e = map(int, input().split())  # vertax edges\n",
    "print(v, e)\n",
    "parent = [0] * (v + 1)\n",
    "\n",
    "edges = []\n",
    "result = 0\n",
    "\n",
    "for i in range(v + 1):\n",
    "    parent[i] = i\n",
    "\n",
    "for _ in range(1, e + 1):\n",
    "    a, b, cost = map(int, input().split())\n",
    "    edges.append((cost, a, b))  # cost 를 기준으로 정렬하기위함  # 3 1 2\n",
    "    # 2 2 3\n",
    "    # 8 3 1\n",
    "\n",
    "edges.sort()\n",
    "\n",
    "for edge in edges:\n",
    "    cost, a, b = edge\n",
    "    if find_parent(parent, a) != find_parent(parent, b):\n",
    "        union_parent(parent, a, b)\n",
    "        result += cost\n",
    "\n",
    "print(result)\n",
    "\n"
   ]
  },
  {
   "cell_type": "markdown",
   "metadata": {},
   "source": [
    "## 크루스칼 알고리즘\n",
    "* 대표적인 최소 신장트리이다.\n",
    "* 간선데이터를 요금순에 따라 오름차순 정렬\n",
    "* 간선을 하나씩 확인하며 현재 간선이 사이클이 발생하는지 확인한다.\n",
    "    1. 사이클이 발생하는 경우 무시한다.\n",
    "    2. 사이클이 발생하지 않는 경우 최소비용신장트리의 적는다 .\n",
    "\n",
    "> input\n",
    "\n",
    "`\n",
    "7 9\\n\n",
    "1 2 29\\n\n",
    "1 5 75\\n\n",
    "2 3 35\\n\n",
    "2 6 34\\n\n",
    "3 4 7\\n\n",
    "4 6 23\\n\n",
    "4 7 13\\n\n",
    "5 6 53\\n\n",
    "6 7 25\\n\n",
    "\n",
    "`\n"
   ]
  }
 ],
 "metadata": {
  "kernelspec": {
   "display_name": "Python 3.10.7 64-bit",
   "language": "python",
   "name": "python3"
  },
  "language_info": {
   "codemirror_mode": {
    "name": "ipython",
    "version": 3
   },
   "file_extension": ".py",
   "mimetype": "text/x-python",
   "name": "python",
   "nbconvert_exporter": "python",
   "pygments_lexer": "ipython3",
   "version": "3.10.7"
  },
  "orig_nbformat": 4,
  "vscode": {
   "interpreter": {
    "hash": "c9a422b4b93cb00b284bc7a42242dde588c072e323783e8ec8947408e890054a"
   }
  }
 },
 "nbformat": 4,
 "nbformat_minor": 2
}
